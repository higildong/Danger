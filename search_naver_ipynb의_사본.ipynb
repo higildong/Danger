{
  "nbformat": 4,
  "nbformat_minor": 0,
  "metadata": {
    "colab": {
      "provenance": [],
      "authorship_tag": "ABX9TyPkmLzFea2ns6yzjiSI1kA3",
      "include_colab_link": true
    },
    "kernelspec": {
      "name": "python3",
      "display_name": "Python 3"
    },
    "language_info": {
      "name": "python"
    }
  },
  "cells": [
    {
      "cell_type": "markdown",
      "metadata": {
        "id": "view-in-github",
        "colab_type": "text"
      },
      "source": [
        "<a href=\"https://colab.research.google.com/github/higildong/Danger/blob/master/search_naver_ipynb%EC%9D%98_%EC%82%AC%EB%B3%B8.ipynb\" target=\"_parent\"><img src=\"https://colab.research.google.com/assets/colab-badge.svg\" alt=\"Open In Colab\"/></a>"
      ]
    },
    {
      "cell_type": "code",
      "execution_count": null,
      "metadata": {
        "colab": {
          "base_uri": "https://localhost:8080/"
        },
        "id": "m_A9hOQHQpMz",
        "outputId": "c248c651-ca3e-4d9f-e2c1-f90760874dee"
      },
      "outputs": [
        {
          "output_type": "stream",
          "name": "stdout",
          "text": [
            "\"블랙핑크 로제가 마약을…\" 中 허위 루머, YG 강경 대응 예고\n"
          ]
        }
      ],
      "source": [
        "import requests\n",
        "from bs4 import BeautifulSoup\n",
        "\n",
        "url = 'https://search.naver.com/search.naver?where=nexearch&sm=top_hty&fbm=1&ie=utf8&query=%EB%B8%94%EB%9E%99%ED%95%91%ED%81%AC'\n",
        "response = requests.get(url)\n",
        "\n",
        "soup = BeautifulSoup(response.text, 'html.parser')\n",
        "title_text = soup.find('a', {'class': 'news_tit'}).text\n",
        "\n",
        "print(title_text)\n"
      ]
    },
    {
      "cell_type": "code",
      "source": [
        "import requests\n",
        "from bs4 import BeautifulSoup\n",
        "\n",
        "url = 'https://search.naver.com/search.naver?where=nexearch&sm=top_hty&fbm=1&ie=utf8&query=%EB%B8%94%EB%9E%99%ED%95%91%ED%81%AC'\n",
        "response = requests.get(url)\n",
        "\n",
        "soup = BeautifulSoup(response.text, 'html.parser')\n",
        "news_titles = soup.find_all('a', {'class': 'news_tit'})\n",
        "\n",
        "for news_title in news_titles:\n",
        "    print(news_title.text)\n"
      ],
      "metadata": {
        "colab": {
          "base_uri": "https://localhost:8080/"
        },
        "id": "WjVLH-15Q7VW",
        "outputId": "2ff462d5-e21c-4456-be2c-ffe432c6b014"
      },
      "execution_count": null,
      "outputs": [
        {
          "output_type": "stream",
          "name": "stdout",
          "text": [
            "\"블랙핑크 로제가 마약을…\" 中 허위 루머, YG 강경 대응 예고\n",
            "태국서 신종 꽃 발견…블랙핑크 '리사' 이름 붙여\n",
            "블랙핑크 '리사', 태국 신종 꽃명 됐다..사연은\n",
            "블랙핑크 측, 중국發 로제 '황당 마약 루머'에 법적조치 예고\n"
          ]
        }
      ]
    },
    {
      "cell_type": "code",
      "source": [
        "import requests\n",
        "from bs4 import BeautifulSoup\n",
        "import openpyxl\n",
        "\n",
        "url = 'https://search.naver.com/search.naver?where=nexearch&sm=top_hty&fbm=1&ie=utf8&query=%EB%B8%94%EB%9E%99%ED%95%91%ED%81%AC'\n",
        "response = requests.get(url)\n",
        "\n",
        "soup = BeautifulSoup(response.text, 'html.parser')\n",
        "news_titles = soup.find_all('a', {'class': 'news_tit'})\n",
        "\n",
        "# 엑셀 파일 생성\n",
        "workbook = openpyxl.Workbook()\n",
        "sheet = workbook.active\n",
        "sheet.title = '블랙핑크 뉴스 제목'\n",
        "\n",
        "# 뉴스 제목을 엑셀 파일에 저장\n",
        "for i, news_title in enumerate(news_titles):\n",
        "    sheet.cell(row=i+1, column=1, value=news_title.text)\n",
        "\n",
        "# 엑셀 파일 저장\n",
        "workbook.save('블랙핑크_뉴스_제목.xlsx')\n"
      ],
      "metadata": {
        "id": "HtX2KclfRT4b"
      },
      "execution_count": null,
      "outputs": []
    },
    {
      "cell_type": "code",
      "source": [
        "import requests\n",
        "from bs4 import BeautifulSoup\n",
        "import openpyxl\n",
        "\n",
        "url = 'https://search.naver.com/search.naver?where=nexearch&sm=top_hty&fbm=1&ie=utf8&query=%EB%B8%94%EB%9E%99%ED%95%91%ED%81%AC'\n",
        "response = requests.get(url)\n",
        "\n",
        "soup = BeautifulSoup(response.text, 'html.parser')\n",
        "news_titles = soup.find_all('a', {'class': 'news_tit'})\n",
        "\n",
        "# 엑셀 파일 생성\n",
        "workbook = openpyxl.Workbook()\n",
        "sheet = workbook.active\n",
        "sheet.title = '블랙핑크 뉴스 제목'\n",
        "\n",
        "# 뉴스 제목과 링크를 엑셀 파일에 저장\n",
        "for i, news_title in enumerate(news_titles):\n",
        "    # 뉴스 제목 저장\n",
        "    sheet.cell(row=i+1, column=1, value=news_title.text)\n",
        "    # 뉴스 링크 저장\n",
        "    sheet.cell(row=i+1, column=1).hyperlink = news_title['href']\n",
        "\n",
        "# 엑셀 파일 저장\n",
        "workbook.save('블랙핑크_뉴스_제목.xlsx')\n"
      ],
      "metadata": {
        "id": "XKaqlXjeRxqC"
      },
      "execution_count": null,
      "outputs": []
    },
    {
      "cell_type": "code",
      "source": [
        "import requests\n",
        "from bs4 import BeautifulSoup\n",
        "import openpyxl\n",
        "\n",
        "# 검색어 입력 받기\n",
        "query = input(\"검색어를 입력하세요: \")\n",
        "\n",
        "url = f\"https://search.naver.com/search.naver?where=news&sm=tab_jum&query={query}\"\n",
        "end_num = 100  # 출력할 끝 번호를 설정합니다.\n",
        "\n",
        "# 엑셀 파일 생성\n",
        "wb = openpyxl.Workbook()\n",
        "ws = wb.active\n",
        "\n",
        "# 검색어를 sheet명으로 설정\n",
        "ws.title = f\"{query}_naver\"\n",
        "\n",
        "# 열 너비 조정 및 글자 정렬, 배경색 지정\n",
        "ws.column_dimensions['A'].width = 7\n",
        "ws.column_dimensions['B'].width = 70\n",
        "ws.column_dimensions['C'].width = 40\n",
        "ws.cell(row=1, column=1, value=\"번호\").alignment = openpyxl.styles.Alignment(horizontal='center')\n",
        "ws.cell(row=1, column=2, value=\"제목\").alignment = openpyxl.styles.Alignment(horizontal='center')\n",
        "ws.cell(row=1, column=3, value=\"기사 정보\").alignment = openpyxl.styles.Alignment(horizontal='center')\n",
        "ws['A1'].fill = openpyxl.styles.PatternFill(patternType='solid', fgColor='FFFF00')\n",
        "ws['B1'].fill = openpyxl.styles.PatternFill(patternType='solid', fgColor='FFFF00')\n",
        "ws['C1'].fill = openpyxl.styles.PatternFill(patternType='solid', fgColor='FFFF00')\n",
        "\n",
        "for page in range(1, (end_num // 10) + 2):\n",
        "    start = (page - 1) * 10 + 1\n",
        "    params = {\n",
        "        \"start\": start,\n",
        "        \"query\": query,\n",
        "        \"sm\": \"tab_pge\",\n",
        "        \"sort\": \"0\",\n",
        "        \"photo\": \"0\",\n",
        "        \"field\": \"0\",\n",
        "        \"reporter_article\": \"\",\n",
        "        \"pd\": \"\",\n",
        "        \"ds\": \"\",\n",
        "        \"de\": \"\",\n",
        "        \"docid\": \"\",\n",
        "        \"nso\": \"\",\n",
        "        \"mynews\": \"0\",\n",
        "        \"cluster_rank\": \"26\",\n",
        "        \"touched\": \"\",\n",
        "        \"related\": \"\",\n",
        "    }\n",
        "    response = requests.get(url, params=params)\n",
        "\n",
        "    soup = BeautifulSoup(response.text, \"html.parser\")\n",
        "    news_tits = soup.select(\".news_tit\")\n",
        "    news_infos = soup.select(\".info\")\n",
        "\n",
        "    for index, news_tit in enumerate(news_tits):\n",
        "        link = news_tit.get(\"href\")\n",
        "        title = news_tit.text\n",
        "        info_group = news_tit.parent.select_one(\"div.info_group\")\n",
        "        if info_group:\n",
        "            info = info_group.text\n",
        "        else:\n",
        "            info = \"\"\n",
        "        ws.cell(row=(page - 1) * 10 + index + 2, column=1, value=(page - 1) * 10 + index + 1)\n",
        "        ws.cell(row=(page - 1) * 10 + index + 2, column=2, value=title).hyperlink = link\n",
        "        ws.cell(row=(page - 1) * 10 + index + 2, column=3, value=info)\n",
        "\n",
        "# 엑셀 파일 저장\n",
        "wb.save(f\"{query}_naver.xlsx\")"
      ],
      "metadata": {
        "colab": {
          "base_uri": "https://localhost:8080/"
        },
        "id": "yh--pLb4OdKg",
        "outputId": "a2697f04-c961-4f88-8101-652ae793ba1a"
      },
      "execution_count": null,
      "outputs": [
        {
          "name": "stdout",
          "output_type": "stream",
          "text": [
            "검색어를 입력하세요: 부민 rfid\n"
          ]
        }
      ]
    },
    {
      "cell_type": "code",
      "source": [
        "pyinstaller --onefile search_naver.py"
      ],
      "metadata": {
        "colab": {
          "base_uri": "https://localhost:8080/",
          "height": 137
        },
        "id": "Y2-wqAzvPft6",
        "outputId": "c058cfe6-0546-4e73-a3f0-ca0261e28eef"
      },
      "execution_count": null,
      "outputs": [
        {
          "output_type": "error",
          "ename": "SyntaxError",
          "evalue": "ignored",
          "traceback": [
            "\u001b[0;36m  File \u001b[0;32m\"<ipython-input-4-b82f431fe063>\"\u001b[0;36m, line \u001b[0;32m1\u001b[0m\n\u001b[0;31m    pyinstaller --onefile search_naver.py\u001b[0m\n\u001b[0m                          ^\u001b[0m\n\u001b[0;31mSyntaxError\u001b[0m\u001b[0;31m:\u001b[0m invalid syntax\n"
          ]
        }
      ]
    },
    {
      "cell_type": "code",
      "source": [
        "pip install pyinstaller\n"
      ],
      "metadata": {
        "colab": {
          "base_uri": "https://localhost:8080/"
        },
        "id": "0df-klBtQFN5",
        "outputId": "3cfe18a1-c5fc-4b4e-c71d-2634e08da5ff"
      },
      "execution_count": 3,
      "outputs": [
        {
          "output_type": "stream",
          "name": "stdout",
          "text": [
            "Looking in indexes: https://pypi.org/simple, https://us-python.pkg.dev/colab-wheels/public/simple/\n",
            "Collecting pyinstaller\n",
            "  Downloading pyinstaller-5.10.1-py3-none-manylinux2014_x86_64.whl (651 kB)\n",
            "\u001b[2K     \u001b[90m━━━━━━━━━━━━━━━━━━━━━━━━━━━━━━━━━━━━━━\u001b[0m \u001b[32m651.6/651.6 kB\u001b[0m \u001b[31m36.5 MB/s\u001b[0m eta \u001b[36m0:00:00\u001b[0m\n",
            "\u001b[?25hCollecting altgraph\n",
            "  Downloading altgraph-0.17.3-py2.py3-none-any.whl (21 kB)\n",
            "Collecting pyinstaller-hooks-contrib>=2021.4\n",
            "  Downloading pyinstaller_hooks_contrib-2023.2-py2.py3-none-any.whl (261 kB)\n",
            "\u001b[2K     \u001b[90m━━━━━━━━━━━━━━━━━━━━━━━━━━━━━━━━━━━━━━\u001b[0m \u001b[32m262.0/262.0 kB\u001b[0m \u001b[31m31.2 MB/s\u001b[0m eta \u001b[36m0:00:00\u001b[0m\n",
            "\u001b[?25hRequirement already satisfied: setuptools>=42.0.0 in /usr/local/lib/python3.9/dist-packages (from pyinstaller) (67.6.1)\n",
            "Installing collected packages: altgraph, pyinstaller-hooks-contrib, pyinstaller\n",
            "Successfully installed altgraph-0.17.3 pyinstaller-5.10.1 pyinstaller-hooks-contrib-2023.2\n"
          ]
        }
      ]
    },
    {
      "cell_type": "code",
      "source": [
        "pyinstaller --onefile search_naver.py"
      ],
      "metadata": {
        "colab": {
          "base_uri": "https://localhost:8080/",
          "height": 137
        },
        "id": "OoyahuniQO2P",
        "outputId": "20ba0295-d369-47af-fbd5-e8951500f138"
      },
      "execution_count": 4,
      "outputs": [
        {
          "output_type": "error",
          "ename": "SyntaxError",
          "evalue": "ignored",
          "traceback": [
            "\u001b[0;36m  File \u001b[0;32m\"<ipython-input-4-b82f431fe063>\"\u001b[0;36m, line \u001b[0;32m1\u001b[0m\n\u001b[0;31m    pyinstaller --onefile search_naver.py\u001b[0m\n\u001b[0m                          ^\u001b[0m\n\u001b[0;31mSyntaxError\u001b[0m\u001b[0;31m:\u001b[0m invalid syntax\n"
          ]
        }
      ]
    },
    {
      "cell_type": "code",
      "source": [
        "pyinstaller --onefile search_naver.py\n"
      ],
      "metadata": {
        "colab": {
          "base_uri": "https://localhost:8080/",
          "height": 137
        },
        "id": "RWK_KQs_QTNn",
        "outputId": "6bf16851-df60-492c-ab85-e536f402ae6a"
      },
      "execution_count": 2,
      "outputs": [
        {
          "output_type": "error",
          "ename": "SyntaxError",
          "evalue": "ignored",
          "traceback": [
            "\u001b[0;36m  File \u001b[0;32m\"<ipython-input-2-b82f431fe063>\"\u001b[0;36m, line \u001b[0;32m1\u001b[0m\n\u001b[0;31m    pyinstaller --onefile search_naver.py\u001b[0m\n\u001b[0m                          ^\u001b[0m\n\u001b[0;31mSyntaxError\u001b[0m\u001b[0;31m:\u001b[0m invalid syntax\n"
          ]
        }
      ]
    }
  ]
}